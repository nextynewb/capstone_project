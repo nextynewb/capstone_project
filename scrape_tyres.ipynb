{
 "cells": [
  {
   "cell_type": "code",
   "execution_count": null,
   "metadata": {},
   "outputs": [],
   "source": [
    "from bs4 import BeautifulSoup\n",
    "import requests\n",
    "import json\n",
    "\n",
    "products_dict = []\n",
    "\n",
    "def download_image(url, title):\n",
    "    response = requests.get(url)\n",
    "    if response.status_code == 200:\n",
    "        with open(f'images/{title}.jpg', 'wb') as file:\n",
    "            file.write(response.content)\n",
    "            print(f\"Image {title}.jpg downloaded\")\n",
    "    else:\n",
    "        print(f\"Failed to download image {title}.jpg\")\n",
    "\n",
    "        \n",
    "\n",
    "for page in range(1,13):\n",
    "\n",
    "    url = f'https://limtayar.com.my/product-category/tyres/page/{page}'\n",
    "    response = requests.get(url)\n",
    "    soup = BeautifulSoup(response.text, 'html.parser')\n",
    "\n",
    "    # Scrape with div class xprocal-products-overflow\n",
    "    products = soup.find_all('div', class_='product-block')\n",
    "\n",
    "    for product in products:\n",
    "        title = product.find('h3', class_='woocommerce-loop-product__title').text.strip()\n",
    "        title = title.replace('/', ' ')\n",
    "        price = product.find('div', class_='caption-botton').find('span', class_='price').text.strip()\n",
    "        image_link = product.find('div', class_='product-image').find('img')['src']\n",
    "        download_image(image_link, title.replace(' ', '_'))\n",
    "        \n",
    "        print(f\"Title: {title}\")\n",
    "        print(f\"Price: {price}\")\n",
    "        print(f\"Image Link: {image_link}\")\n",
    "        print('---')\n",
    "        products_dict.append({\n",
    "            'title': title,\n",
    "            'price': price,\n",
    "            'image_link': image_link,\n",
    "            'image_path': f'images/{title.replace(\" \", \"_\")}.jpg'\n",
    "        })\n",
    "\n",
    "\n",
    "# Save to JSON\n",
    "with open('tyres.json', 'w') as file:\n",
    "    json.dump(products_dict, file, indent=4)\n",
    "    print(\"JSON file saved\")\n"
   ]
  }
 ],
 "metadata": {
  "kernelspec": {
   "display_name": "Python 3",
   "language": "python",
   "name": "python3"
  },
  "language_info": {
   "codemirror_mode": {
    "name": "ipython",
    "version": 3
   },
   "file_extension": ".py",
   "mimetype": "text/x-python",
   "name": "python",
   "nbconvert_exporter": "python",
   "pygments_lexer": "ipython3",
   "version": "3.11.6"
  }
 },
 "nbformat": 4,
 "nbformat_minor": 2
}
